{
 "cells": [
  {
   "cell_type": "markdown",
   "id": "36bc709d",
   "metadata": {},
   "source": [
    "Projekt\n",
    "=======\n"
   ]
  },
  {
   "cell_type": "markdown",
   "id": "0c401a87",
   "metadata": {},
   "source": [
    "Wprowadzenie\n",
    "------------"
   ]
  },
  {
   "cell_type": "markdown",
   "id": "065d69ea",
   "metadata": {},
   "source": [
    "Zbiór danych dotyczący ćwiczeń członków siłowni, który został utworzony na podstawie 973 próbek zebranych podczas sesji treningowych. Dane zawierają informacje demograficzne, fizjologiczne oraz szczegóły dotyczące rutyny treningowej użytkowników siłowni. Zbiór został najprawdopodobniej utworzony na siłowni lub centrum fitness poprzez ankietowanie, monitorowanie i rejestrowanie aktywności oraz parametrów zdrowotnych uczestników. Pytania badawcze będą dotyczyć m.in. zależności między poziomem doświadczenia a wynikami treningowymi, wpływu cech fizycznych na intensywność ćwiczeń, oraz analizy wzorców postępów i zdrowia użytkowników."
   ]
  },
  {
   "cell_type": "markdown",
   "id": "5f31293b",
   "metadata": {},
   "source": [
    "Czyszczenie i porządkowanie danych\n",
    "----------------------------------\n"
   ]
  },
  {
   "cell_type": "code",
   "execution_count": 27,
   "id": "fbebb662",
   "metadata": {},
   "outputs": [],
   "source": [
    "import matplotlib.pyplot as plt\n",
    "import missingno as msno\n",
    "import numpy as np\n",
    "import pandas as pd\n",
    "import seaborn as sns"
   ]
  },
  {
   "cell_type": "code",
   "execution_count": 3,
   "id": "35bf6e00",
   "metadata": {},
   "outputs": [],
   "source": [
    "df = pd.read_csv('data/silownia_new.csv')"
   ]
  },
  {
   "cell_type": "code",
   "execution_count": 146,
   "id": "a883863f",
   "metadata": {},
   "outputs": [
    {
     "data": {
      "application/vnd.microsoft.datawrangler.viewer.v0+json": {
       "columns": [
        {
         "name": "index",
         "rawType": "int64",
         "type": "integer"
        },
        {
         "name": "Age",
         "rawType": "float64",
         "type": "float"
        },
        {
         "name": "Gender",
         "rawType": "object",
         "type": "string"
        },
        {
         "name": "Weight (kg)",
         "rawType": "float64",
         "type": "float"
        },
        {
         "name": "Height (m)",
         "rawType": "float64",
         "type": "float"
        },
        {
         "name": "Max_BPM",
         "rawType": "int64",
         "type": "integer"
        },
        {
         "name": "Avg_BPM",
         "rawType": "int64",
         "type": "integer"
        },
        {
         "name": "Resting_BPM",
         "rawType": "int64",
         "type": "integer"
        },
        {
         "name": "Session_Duration (hours)",
         "rawType": "float64",
         "type": "float"
        },
        {
         "name": "Calories_Burned",
         "rawType": "int64",
         "type": "integer"
        },
        {
         "name": "Workout_Type",
         "rawType": "object",
         "type": "unknown"
        },
        {
         "name": "Fat_Percentage",
         "rawType": "float64",
         "type": "float"
        },
        {
         "name": "Water_Intake (liters)",
         "rawType": "float64",
         "type": "float"
        },
        {
         "name": "Workout_Frequency (days/week)",
         "rawType": "int64",
         "type": "integer"
        },
        {
         "name": "Experience_Level",
         "rawType": "int64",
         "type": "integer"
        },
        {
         "name": "BMI",
         "rawType": "float64",
         "type": "float"
        }
       ],
       "ref": "43c92d15-20b1-49cc-bac3-030e04bc4136",
       "rows": [
        [
         "0",
         null,
         "Male",
         "88.3",
         "1.71",
         "180",
         "157",
         "60",
         "1.69",
         "1313",
         "Yoga",
         "12.6",
         "3.5",
         "4",
         "3",
         null
        ],
        [
         "1",
         "46.0",
         "Female",
         "74.9",
         "1.53",
         "179",
         "151",
         "66",
         "1.3",
         "883",
         null,
         "33.9",
         "2.1",
         "4",
         "2",
         "32.0"
        ],
        [
         "2",
         "32.0",
         "Female",
         "68.1",
         "1.66",
         "167",
         "122",
         "54",
         "1.11",
         "677",
         "Cardio",
         "33.4",
         "2.3",
         "4",
         "2",
         null
        ],
        [
         "3",
         "25.0",
         "Male",
         "53.2",
         "1.7",
         "190",
         "164",
         "56",
         "0.59",
         "532",
         "Strength",
         "28.8",
         "2.1",
         "3",
         "1",
         "18.41"
        ],
        [
         "4",
         "38.0",
         "Male",
         "46.1",
         "1.79",
         "188",
         "158",
         "68",
         "0.64",
         "556",
         "Strength",
         "29.2",
         "2.8",
         "3",
         "1",
         "14.39"
        ]
       ],
       "shape": {
        "columns": 15,
        "rows": 5
       }
      },
      "text/html": [
       "<div>\n",
       "<style scoped>\n",
       "    .dataframe tbody tr th:only-of-type {\n",
       "        vertical-align: middle;\n",
       "    }\n",
       "\n",
       "    .dataframe tbody tr th {\n",
       "        vertical-align: top;\n",
       "    }\n",
       "\n",
       "    .dataframe thead th {\n",
       "        text-align: right;\n",
       "    }\n",
       "</style>\n",
       "<table border=\"1\" class=\"dataframe\">\n",
       "  <thead>\n",
       "    <tr style=\"text-align: right;\">\n",
       "      <th></th>\n",
       "      <th>Age</th>\n",
       "      <th>Gender</th>\n",
       "      <th>Weight (kg)</th>\n",
       "      <th>Height (m)</th>\n",
       "      <th>Max_BPM</th>\n",
       "      <th>Avg_BPM</th>\n",
       "      <th>Resting_BPM</th>\n",
       "      <th>Session_Duration (hours)</th>\n",
       "      <th>Calories_Burned</th>\n",
       "      <th>Workout_Type</th>\n",
       "      <th>Fat_Percentage</th>\n",
       "      <th>Water_Intake (liters)</th>\n",
       "      <th>Workout_Frequency (days/week)</th>\n",
       "      <th>Experience_Level</th>\n",
       "      <th>BMI</th>\n",
       "    </tr>\n",
       "  </thead>\n",
       "  <tbody>\n",
       "    <tr>\n",
       "      <th>0</th>\n",
       "      <td>NaN</td>\n",
       "      <td>Male</td>\n",
       "      <td>88.3</td>\n",
       "      <td>1.71</td>\n",
       "      <td>180</td>\n",
       "      <td>157</td>\n",
       "      <td>60</td>\n",
       "      <td>1.69</td>\n",
       "      <td>1313</td>\n",
       "      <td>Yoga</td>\n",
       "      <td>12.6</td>\n",
       "      <td>3.5</td>\n",
       "      <td>4</td>\n",
       "      <td>3</td>\n",
       "      <td>NaN</td>\n",
       "    </tr>\n",
       "    <tr>\n",
       "      <th>1</th>\n",
       "      <td>46.0</td>\n",
       "      <td>Female</td>\n",
       "      <td>74.9</td>\n",
       "      <td>1.53</td>\n",
       "      <td>179</td>\n",
       "      <td>151</td>\n",
       "      <td>66</td>\n",
       "      <td>1.30</td>\n",
       "      <td>883</td>\n",
       "      <td>NaN</td>\n",
       "      <td>33.9</td>\n",
       "      <td>2.1</td>\n",
       "      <td>4</td>\n",
       "      <td>2</td>\n",
       "      <td>32.00</td>\n",
       "    </tr>\n",
       "    <tr>\n",
       "      <th>2</th>\n",
       "      <td>32.0</td>\n",
       "      <td>Female</td>\n",
       "      <td>68.1</td>\n",
       "      <td>1.66</td>\n",
       "      <td>167</td>\n",
       "      <td>122</td>\n",
       "      <td>54</td>\n",
       "      <td>1.11</td>\n",
       "      <td>677</td>\n",
       "      <td>Cardio</td>\n",
       "      <td>33.4</td>\n",
       "      <td>2.3</td>\n",
       "      <td>4</td>\n",
       "      <td>2</td>\n",
       "      <td>NaN</td>\n",
       "    </tr>\n",
       "    <tr>\n",
       "      <th>3</th>\n",
       "      <td>25.0</td>\n",
       "      <td>Male</td>\n",
       "      <td>53.2</td>\n",
       "      <td>1.70</td>\n",
       "      <td>190</td>\n",
       "      <td>164</td>\n",
       "      <td>56</td>\n",
       "      <td>0.59</td>\n",
       "      <td>532</td>\n",
       "      <td>Strength</td>\n",
       "      <td>28.8</td>\n",
       "      <td>2.1</td>\n",
       "      <td>3</td>\n",
       "      <td>1</td>\n",
       "      <td>18.41</td>\n",
       "    </tr>\n",
       "    <tr>\n",
       "      <th>4</th>\n",
       "      <td>38.0</td>\n",
       "      <td>Male</td>\n",
       "      <td>46.1</td>\n",
       "      <td>1.79</td>\n",
       "      <td>188</td>\n",
       "      <td>158</td>\n",
       "      <td>68</td>\n",
       "      <td>0.64</td>\n",
       "      <td>556</td>\n",
       "      <td>Strength</td>\n",
       "      <td>29.2</td>\n",
       "      <td>2.8</td>\n",
       "      <td>3</td>\n",
       "      <td>1</td>\n",
       "      <td>14.39</td>\n",
       "    </tr>\n",
       "  </tbody>\n",
       "</table>\n",
       "</div>"
      ],
      "text/plain": [
       "    Age  Gender  Weight (kg)  Height (m)  Max_BPM  Avg_BPM  Resting_BPM  \\\n",
       "0   NaN    Male         88.3        1.71      180      157           60   \n",
       "1  46.0  Female         74.9        1.53      179      151           66   \n",
       "2  32.0  Female         68.1        1.66      167      122           54   \n",
       "3  25.0    Male         53.2        1.70      190      164           56   \n",
       "4  38.0    Male         46.1        1.79      188      158           68   \n",
       "\n",
       "   Session_Duration (hours)  Calories_Burned Workout_Type  Fat_Percentage  \\\n",
       "0                      1.69             1313         Yoga            12.6   \n",
       "1                      1.30              883          NaN            33.9   \n",
       "2                      1.11              677       Cardio            33.4   \n",
       "3                      0.59              532     Strength            28.8   \n",
       "4                      0.64              556     Strength            29.2   \n",
       "\n",
       "   Water_Intake (liters)  Workout_Frequency (days/week)  Experience_Level  \\\n",
       "0                    3.5                              4                 3   \n",
       "1                    2.1                              4                 2   \n",
       "2                    2.3                              4                 2   \n",
       "3                    2.1                              3                 1   \n",
       "4                    2.8                              3                 1   \n",
       "\n",
       "     BMI  \n",
       "0    NaN  \n",
       "1  32.00  \n",
       "2    NaN  \n",
       "3  18.41  \n",
       "4  14.39  "
      ]
     },
     "execution_count": 146,
     "metadata": {},
     "output_type": "execute_result"
    }
   ],
   "source": [
    "df.head()"
   ]
  },
  {
   "cell_type": "code",
   "execution_count": 4,
   "id": "805ec307",
   "metadata": {},
   "outputs": [
    {
     "data": {
      "text/html": [
       "<div>\n",
       "<style scoped>\n",
       "    .dataframe tbody tr th:only-of-type {\n",
       "        vertical-align: middle;\n",
       "    }\n",
       "\n",
       "    .dataframe tbody tr th {\n",
       "        vertical-align: top;\n",
       "    }\n",
       "\n",
       "    .dataframe thead th {\n",
       "        text-align: right;\n",
       "    }\n",
       "</style>\n",
       "<table border=\"1\" class=\"dataframe\">\n",
       "  <thead>\n",
       "    <tr style=\"text-align: right;\">\n",
       "      <th></th>\n",
       "      <th>Age</th>\n",
       "      <th>Weight (kg)</th>\n",
       "      <th>Height (m)</th>\n",
       "      <th>Max_BPM</th>\n",
       "      <th>Avg_BPM</th>\n",
       "      <th>Resting_BPM</th>\n",
       "      <th>Session_Duration (hours)</th>\n",
       "      <th>Calories_Burned</th>\n",
       "      <th>Fat_Percentage</th>\n",
       "      <th>Water_Intake (liters)</th>\n",
       "      <th>Workout_Frequency (days/week)</th>\n",
       "      <th>Experience_Level</th>\n",
       "      <th>BMI</th>\n",
       "    </tr>\n",
       "  </thead>\n",
       "  <tbody>\n",
       "    <tr>\n",
       "      <th>count</th>\n",
       "      <td>873.000000</td>\n",
       "      <td>973.000000</td>\n",
       "      <td>973.00000</td>\n",
       "      <td>973.000000</td>\n",
       "      <td>973.000000</td>\n",
       "      <td>973.000000</td>\n",
       "      <td>973.000000</td>\n",
       "      <td>973.000000</td>\n",
       "      <td>973.000000</td>\n",
       "      <td>973.000000</td>\n",
       "      <td>973.000000</td>\n",
       "      <td>973.000000</td>\n",
       "      <td>823.000000</td>\n",
       "    </tr>\n",
       "    <tr>\n",
       "      <th>mean</th>\n",
       "      <td>38.626575</td>\n",
       "      <td>73.854676</td>\n",
       "      <td>1.72258</td>\n",
       "      <td>179.883864</td>\n",
       "      <td>143.766701</td>\n",
       "      <td>62.223022</td>\n",
       "      <td>1.256423</td>\n",
       "      <td>905.422405</td>\n",
       "      <td>24.976773</td>\n",
       "      <td>2.626619</td>\n",
       "      <td>3.321686</td>\n",
       "      <td>1.809866</td>\n",
       "      <td>24.816549</td>\n",
       "    </tr>\n",
       "    <tr>\n",
       "      <th>std</th>\n",
       "      <td>12.273464</td>\n",
       "      <td>21.207500</td>\n",
       "      <td>0.12772</td>\n",
       "      <td>11.525686</td>\n",
       "      <td>14.345101</td>\n",
       "      <td>7.327060</td>\n",
       "      <td>0.343033</td>\n",
       "      <td>272.641516</td>\n",
       "      <td>6.259419</td>\n",
       "      <td>0.600172</td>\n",
       "      <td>0.913047</td>\n",
       "      <td>0.739693</td>\n",
       "      <td>6.600485</td>\n",
       "    </tr>\n",
       "    <tr>\n",
       "      <th>min</th>\n",
       "      <td>18.000000</td>\n",
       "      <td>40.000000</td>\n",
       "      <td>1.50000</td>\n",
       "      <td>160.000000</td>\n",
       "      <td>120.000000</td>\n",
       "      <td>50.000000</td>\n",
       "      <td>0.500000</td>\n",
       "      <td>303.000000</td>\n",
       "      <td>10.000000</td>\n",
       "      <td>1.500000</td>\n",
       "      <td>2.000000</td>\n",
       "      <td>1.000000</td>\n",
       "      <td>12.320000</td>\n",
       "    </tr>\n",
       "    <tr>\n",
       "      <th>25%</th>\n",
       "      <td>28.000000</td>\n",
       "      <td>58.100000</td>\n",
       "      <td>1.62000</td>\n",
       "      <td>170.000000</td>\n",
       "      <td>131.000000</td>\n",
       "      <td>56.000000</td>\n",
       "      <td>1.040000</td>\n",
       "      <td>720.000000</td>\n",
       "      <td>21.300000</td>\n",
       "      <td>2.200000</td>\n",
       "      <td>3.000000</td>\n",
       "      <td>1.000000</td>\n",
       "      <td>20.105000</td>\n",
       "    </tr>\n",
       "    <tr>\n",
       "      <th>50%</th>\n",
       "      <td>39.000000</td>\n",
       "      <td>70.000000</td>\n",
       "      <td>1.71000</td>\n",
       "      <td>180.000000</td>\n",
       "      <td>143.000000</td>\n",
       "      <td>62.000000</td>\n",
       "      <td>1.260000</td>\n",
       "      <td>893.000000</td>\n",
       "      <td>26.200000</td>\n",
       "      <td>2.600000</td>\n",
       "      <td>3.000000</td>\n",
       "      <td>2.000000</td>\n",
       "      <td>23.940000</td>\n",
       "    </tr>\n",
       "    <tr>\n",
       "      <th>75%</th>\n",
       "      <td>50.000000</td>\n",
       "      <td>86.000000</td>\n",
       "      <td>1.80000</td>\n",
       "      <td>190.000000</td>\n",
       "      <td>156.000000</td>\n",
       "      <td>68.000000</td>\n",
       "      <td>1.460000</td>\n",
       "      <td>1076.000000</td>\n",
       "      <td>29.300000</td>\n",
       "      <td>3.100000</td>\n",
       "      <td>4.000000</td>\n",
       "      <td>2.000000</td>\n",
       "      <td>28.450000</td>\n",
       "    </tr>\n",
       "    <tr>\n",
       "      <th>max</th>\n",
       "      <td>59.000000</td>\n",
       "      <td>129.900000</td>\n",
       "      <td>2.00000</td>\n",
       "      <td>199.000000</td>\n",
       "      <td>169.000000</td>\n",
       "      <td>74.000000</td>\n",
       "      <td>2.000000</td>\n",
       "      <td>1783.000000</td>\n",
       "      <td>35.000000</td>\n",
       "      <td>3.700000</td>\n",
       "      <td>5.000000</td>\n",
       "      <td>3.000000</td>\n",
       "      <td>47.720000</td>\n",
       "    </tr>\n",
       "  </tbody>\n",
       "</table>\n",
       "</div>"
      ],
      "text/plain": [
       "              Age  Weight (kg)  Height (m)     Max_BPM     Avg_BPM  \\\n",
       "count  873.000000   973.000000   973.00000  973.000000  973.000000   \n",
       "mean    38.626575    73.854676     1.72258  179.883864  143.766701   \n",
       "std     12.273464    21.207500     0.12772   11.525686   14.345101   \n",
       "min     18.000000    40.000000     1.50000  160.000000  120.000000   \n",
       "25%     28.000000    58.100000     1.62000  170.000000  131.000000   \n",
       "50%     39.000000    70.000000     1.71000  180.000000  143.000000   \n",
       "75%     50.000000    86.000000     1.80000  190.000000  156.000000   \n",
       "max     59.000000   129.900000     2.00000  199.000000  169.000000   \n",
       "\n",
       "       Resting_BPM  Session_Duration (hours)  Calories_Burned  Fat_Percentage  \\\n",
       "count   973.000000                973.000000       973.000000      973.000000   \n",
       "mean     62.223022                  1.256423       905.422405       24.976773   \n",
       "std       7.327060                  0.343033       272.641516        6.259419   \n",
       "min      50.000000                  0.500000       303.000000       10.000000   \n",
       "25%      56.000000                  1.040000       720.000000       21.300000   \n",
       "50%      62.000000                  1.260000       893.000000       26.200000   \n",
       "75%      68.000000                  1.460000      1076.000000       29.300000   \n",
       "max      74.000000                  2.000000      1783.000000       35.000000   \n",
       "\n",
       "       Water_Intake (liters)  Workout_Frequency (days/week)  Experience_Level  \\\n",
       "count             973.000000                     973.000000        973.000000   \n",
       "mean                2.626619                       3.321686          1.809866   \n",
       "std                 0.600172                       0.913047          0.739693   \n",
       "min                 1.500000                       2.000000          1.000000   \n",
       "25%                 2.200000                       3.000000          1.000000   \n",
       "50%                 2.600000                       3.000000          2.000000   \n",
       "75%                 3.100000                       4.000000          2.000000   \n",
       "max                 3.700000                       5.000000          3.000000   \n",
       "\n",
       "              BMI  \n",
       "count  823.000000  \n",
       "mean    24.816549  \n",
       "std      6.600485  \n",
       "min     12.320000  \n",
       "25%     20.105000  \n",
       "50%     23.940000  \n",
       "75%     28.450000  \n",
       "max     47.720000  "
      ]
     },
     "execution_count": 4,
     "metadata": {},
     "output_type": "execute_result"
    }
   ],
   "source": [
    "df.describe()"
   ]
  },
  {
   "cell_type": "code",
   "execution_count": 5,
   "id": "5ca2772b",
   "metadata": {},
   "outputs": [
    {
     "name": "stdout",
     "output_type": "stream",
     "text": [
      "<class 'pandas.core.frame.DataFrame'>\n",
      "RangeIndex: 973 entries, 0 to 972\n",
      "Data columns (total 15 columns):\n",
      " #   Column                         Non-Null Count  Dtype  \n",
      "---  ------                         --------------  -----  \n",
      " 0   Age                            873 non-null    float64\n",
      " 1   Gender                         973 non-null    object \n",
      " 2   Weight (kg)                    973 non-null    float64\n",
      " 3   Height (m)                     973 non-null    float64\n",
      " 4   Max_BPM                        973 non-null    int64  \n",
      " 5   Avg_BPM                        973 non-null    int64  \n",
      " 6   Resting_BPM                    973 non-null    int64  \n",
      " 7   Session_Duration (hours)       973 non-null    float64\n",
      " 8   Calories_Burned                973 non-null    int64  \n",
      " 9   Workout_Type                   823 non-null    object \n",
      " 10  Fat_Percentage                 973 non-null    float64\n",
      " 11  Water_Intake (liters)          973 non-null    float64\n",
      " 12  Workout_Frequency (days/week)  973 non-null    int64  \n",
      " 13  Experience_Level               973 non-null    int64  \n",
      " 14  BMI                            823 non-null    float64\n",
      "dtypes: float64(7), int64(6), object(2)\n",
      "memory usage: 114.2+ KB\n"
     ]
    }
   ],
   "source": [
    "df.info()"
   ]
  },
  {
   "cell_type": "code",
   "execution_count": 6,
   "id": "f7880d95",
   "metadata": {},
   "outputs": [
    {
     "data": {
      "text/plain": [
       "Age                              100\n",
       "Gender                             0\n",
       "Weight (kg)                        0\n",
       "Height (m)                         0\n",
       "Max_BPM                            0\n",
       "Avg_BPM                            0\n",
       "Resting_BPM                        0\n",
       "Session_Duration (hours)           0\n",
       "Calories_Burned                    0\n",
       "Workout_Type                     150\n",
       "Fat_Percentage                     0\n",
       "Water_Intake (liters)              0\n",
       "Workout_Frequency (days/week)      0\n",
       "Experience_Level                   0\n",
       "BMI                              150\n",
       "dtype: int64"
      ]
     },
     "execution_count": 6,
     "metadata": {},
     "output_type": "execute_result"
    }
   ],
   "source": [
    "df.isna().sum()"
   ]
  },
  {
   "cell_type": "markdown",
   "id": "8e527ca3",
   "metadata": {},
   "source": [
    "Zbiór danych jest wybrakowany w 150 rekordów wartości BMI. Jednocześnie dostępne mamy dla wszystkich obserwacji wartości składające się na wzór BMI. Dzięki temu mozemy w prosty sposób dokonać imptutacji deterministycznej uzywając wzoru:\n",
    "$$\n",
    "BMI = \\frac{\\text{waga w kg}}{\\text{wzrost do kwadratu}}\n",
    "$$\n"
   ]
  },
  {
   "cell_type": "code",
   "execution_count": 7,
   "id": "77a3a8e0",
   "metadata": {},
   "outputs": [],
   "source": [
    "mask_missing_bmi = df[\"BMI\"].isna()\n",
    "df.loc[mask_missing_bmi, 'BMI'] = (\n",
    "    df.loc[mask_missing_bmi, 'Weight (kg)'] /\n",
    "    (df.loc[mask_missing_bmi, 'Height (m)'] ** 2)\n",
    ")"
   ]
  },
  {
   "cell_type": "code",
   "execution_count": 8,
   "id": "08df0e49",
   "metadata": {},
   "outputs": [
    {
     "data": {
      "text/plain": [
       "<Axes: >"
      ]
     },
     "execution_count": 8,
     "metadata": {},
     "output_type": "execute_result"
    },
    {
     "data": {
      "image/png": "[encoded data removed]",
      "text/plain": [
       "<Figure size 640x480 with 2 Axes>"
      ]
     },
     "metadata": {},
     "output_type": "display_data"
    }
   ],
   "source": [
    "sns.heatmap(df.isna())"
   ]
  },
  {
   "cell_type": "code",
   "execution_count": 9,
   "id": "1f5d97e5",
   "metadata": {},
   "outputs": [
    {
     "data": {
      "text/plain": [
       "<Axes: >"
      ]
     },
     "execution_count": 9,
     "metadata": {},
     "output_type": "execute_result"
    },
    {
     "data": {
      "image/png": "[encoded data removed]",
      "text/plain": [
       "<Figure size 2000x1200 with 2 Axes>"
      ]
     },
     "metadata": {},
     "output_type": "display_data"
    }
   ],
   "source": [
    "msno.heatmap(df)"
   ]
  },
  {
   "cell_type": "code",
   "execution_count": 10,
   "id": "31f0e8f0",
   "metadata": {},
   "outputs": [
    {
     "data": {
      "text/plain": [
       "<Axes: >"
      ]
     },
     "execution_count": 10,
     "metadata": {},
     "output_type": "execute_result"
    },
    {
     "data": {
      "image/png": "[encoded data removed]",
      "text/plain": [
       "<Figure size 2500x1000 with 1 Axes>"
      ]
     },
     "metadata": {},
     "output_type": "display_data"
    }
   ],
   "source": [
    "msno.dendrogram(df)"
   ]
  },
  {
   "cell_type": "markdown",
   "id": "086b8a04",
   "metadata": {},
   "source": [
    "Brak zależności pomiędzy brakującymi danymi w tych samych wierszach"
   ]
  },
  {
   "cell_type": "code",
   "execution_count": 11,
   "id": "97589d52",
   "metadata": {},
   "outputs": [
    {
     "data": {
      "text/plain": [
       "Gender\n",
       "Female    41\n",
       "Male      59\n",
       "Name: Age, dtype: int64"
      ]
     },
     "execution_count": 11,
     "metadata": {},
     "output_type": "execute_result"
    }
   ],
   "source": [
    "df.groupby('Gender')['Age'].apply(lambda x: x.isnull().sum())"
   ]
  },
  {
   "cell_type": "code",
   "execution_count": 12,
   "id": "3494a239",
   "metadata": {},
   "outputs": [
    {
     "data": {
      "text/plain": [
       "np.float64(75.01299999999999)"
      ]
     },
     "execution_count": 12,
     "metadata": {},
     "output_type": "execute_result"
    }
   ],
   "source": [
    "df[df['Age'].isna()]['Weight (kg)'].mean()"
   ]
  },
  {
   "cell_type": "code",
   "execution_count": 13,
   "id": "d98a812c",
   "metadata": {},
   "outputs": [
    {
     "data": {
      "text/plain": [
       "np.float64(73.72199312714777)"
      ]
     },
     "execution_count": 13,
     "metadata": {},
     "output_type": "execute_result"
    }
   ],
   "source": [
    "df[~df['Age'].isna()]['Weight (kg)'].mean()"
   ]
  },
  {
   "cell_type": "markdown",
   "id": "57e3aa70",
   "metadata": {},
   "source": [
    "Braki zupelnie losowe (MCAR), stanowią ok. 15%, więc nie będą usuwane, a imputowane"
   ]
  },
  {
   "cell_type": "code",
   "execution_count": 14,
   "id": "a84fa220",
   "metadata": {},
   "outputs": [
    {
     "data": {
      "text/plain": [
       "<Axes: >"
      ]
     },
     "execution_count": 14,
     "metadata": {},
     "output_type": "execute_result"
    },
    {
     "data": {
      "image/png": "[encoded data removed]",
      "text/plain": [
       "<Figure size 640x480 with 1 Axes>"
      ]
     },
     "metadata": {},
     "output_type": "display_data"
    }
   ],
   "source": [
    "df['Age'].hist(bins=20)"
   ]
  },
  {
   "cell_type": "markdown",
   "id": "76dc50dd",
   "metadata": {},
   "source": [
    "Rozkład wieku nie jest idealnie symetryczny - widoczny jest spory pik po lewej stronie histogramu (młodzi użytkownicy siłowni). Średnia może być zawyżona przez osoby starsze, więc imputacja medianą lepiej odzwierciedli typowego użytkownika"
   ]
  },
  {
   "cell_type": "code",
   "execution_count": 15,
   "id": "2e0b9296",
   "metadata": {},
   "outputs": [],
   "source": [
    "df['Age_imputed'] = df['Age'].fillna(df['Age'].median())"
   ]
  },
  {
   "cell_type": "code",
   "execution_count": 17,
   "id": "6e195e31",
   "metadata": {},
   "outputs": [
    {
     "name": "stdout",
     "output_type": "stream",
     "text": [
      "Chi2 test p-value: 0.5523515099225926\n"
     ]
    }
   ],
   "source": [
    "from scipy.stats import chi2_contingency\n",
    "\n",
    "contingency_table = pd.crosstab(df['Workout_Type'], df['Gender'])\n",
    "chi2, p, _, _ = chi2_contingency(contingency_table)\n",
    "print(f\"Chi2 test p-value: {p}\")"
   ]
  },
  {
   "cell_type": "code",
   "execution_count": 18,
   "id": "e73fd847",
   "metadata": {},
   "outputs": [
    {
     "name": "stdout",
     "output_type": "stream",
     "text": [
      "Age: p-value = 0.7154\n",
      "Weight (kg): p-value = 0.6959\n",
      "Height (m): p-value = 0.5577\n",
      "Max_BPM: p-value = 0.7012\n",
      "Avg_BPM: p-value = 0.8644\n",
      "Resting_BPM: p-value = 0.6219\n",
      "Session_Duration (hours): p-value = 0.1248\n",
      "Calories_Burned: p-value = 0.2411\n",
      "Fat_Percentage: p-value = 0.0824\n",
      "Water_Intake (liters): p-value = 0.4088\n",
      "Workout_Frequency (days/week): p-value = 0.4954\n",
      "Experience_Level: p-value = 0.1320\n",
      "BMI: p-value = 0.7003\n",
      "Age_imputed: p-value = 0.7217\n"
     ]
    }
   ],
   "source": [
    "from scipy.stats import f_oneway\n",
    "\n",
    "for col in df.select_dtypes(include='number').columns:\n",
    "    groups = [group[col].dropna() for name, group in df.groupby('Workout_Type')]\n",
    "    if len(groups) > 1:\n",
    "        stat, p = f_oneway(*groups)\n",
    "        print(f\"{col}: p-value = {p:.4f}\")\n"
   ]
  },
  {
   "cell_type": "code",
   "execution_count": 19,
   "id": "01acf5a2",
   "metadata": {},
   "outputs": [
    {
     "data": {
      "text/plain": [
       "<Axes: >"
      ]
     },
     "execution_count": 19,
     "metadata": {},
     "output_type": "execute_result"
    },
    {
     "data": {
      "image/png": "[encoded data removed]",
      "text/plain": [
       "<Figure size 640x480 with 2 Axes>"
      ]
     },
     "metadata": {},
     "output_type": "display_data"
    }
   ],
   "source": [
    "sns.heatmap(df.corr(numeric_only=True), cmap='coolwarm')"
   ]
  },
  {
   "cell_type": "markdown",
   "id": "550fe5b8",
   "metadata": {},
   "source": [
    "Brak istotnych statystycznie zależności między Workout Type, a innymi kolumnami. Liczne braki, uzupelnienie najczęstszą wartością nie ma sensu, dlatego użyte zostanie oznaczenie \"Unknown\"."
   ]
  },
  {
   "cell_type": "code",
   "execution_count": 20,
   "id": "3f1593a4",
   "metadata": {},
   "outputs": [],
   "source": [
    "df['Workout_Type'] = df['Workout_Type'].fillna('Unknown')"
   ]
  },
  {
   "cell_type": "code",
   "execution_count": 21,
   "id": "2843a76e",
   "metadata": {},
   "outputs": [
    {
     "data": {
      "text/plain": [
       "Workout_Type\n",
       "Cardio      220\n",
       "Strength    219\n",
       "Yoga        200\n",
       "HIIT        184\n",
       "Unknown     150\n",
       "Name: count, dtype: int64"
      ]
     },
     "execution_count": 21,
     "metadata": {},
     "output_type": "execute_result"
    }
   ],
   "source": [
    "df['Workout_Type'].value_counts()"
   ]
  },
  {
   "cell_type": "code",
   "execution_count": 33,
   "id": "436049d4",
   "metadata": {},
   "outputs": [
    {
     "name": "stdout",
     "output_type": "stream",
     "text": [
      "Age > 0: True\n",
      "Weight > 0: True\n",
      "Height > 0: True\n",
      "Max_BPM > 0: True\n",
      "Max_BPM < 220: True\n",
      "Avg_BPM > 0: True\n",
      "Resting_BPM > 0: True\n",
      "Fat_Percentage > 0: True\n",
      "Fat_Percentage < 100: True\n",
      "Workout_Frequency (days/week) >= 0: True\n",
      "Workout_Frequency (days/week) <= 7: True\n",
      "Calories_Burned >= 0: True\n",
      "Age < 130: True\n",
      "Weight < 640: True\n",
      "Height < 2.3: True\n",
      "Max_BPM >= Avg_BPM >= Resting_BPM: False\n",
      "BMI = Weight / Height ** 2: True\n"
     ]
    }
   ],
   "source": [
    "tolerance = 0.01\n",
    "\n",
    "def check_rules(df):\n",
    "    rules = {\n",
    "        \"Age > 0\": df[\"Age_imputed\"] > 0,\n",
    "        \"Weight > 0\": df[\"Weight (kg)\"] > 0,\n",
    "        \"Height > 0\": df[\"Height (m)\"] > 0,\n",
    "        \"Max_BPM > 0\": df[\"Max_BPM\"] > 0,\n",
    "        \"Max_BPM < 220\": df[\"Max_BPM\"] < 220,\n",
    "        \"Avg_BPM > 0\": df[\"Avg_BPM\"] > 0,\n",
    "        \"Resting_BPM > 0\": df[\"Resting_BPM\"] > 0,\n",
    "        \"Fat_Percentage > 0\": df[\"Fat_Percentage\"] > 0,\n",
    "        \"Fat_Percentage < 100\": df[\"Fat_Percentage\"] < 100,\n",
    "        \"Workout_Frequency (days/week) >= 0\": df[\"Workout_Frequency (days/week)\"] >= 0,\n",
    "        \"Workout_Frequency (days/week) <= 7\": df[\"Workout_Frequency (days/week)\"] <= 7,\n",
    "        \"Calories_Burned >= 0\": df[\"Calories_Burned\"] >= 0,\n",
    "\n",
    "        \"Age < 130\": df[\"Age_imputed\"] < 130,\n",
    "        \"Weight < 640\": df[\"Weight (kg)\"] < 640,\n",
    "        \"Height < 2.3\": df[\"Height (m)\"] < 2.3,\n",
    "\n",
    "        \"Max_BPM >= Avg_BPM >= Resting_BPM\": (df[\"Max_BPM\"] >= df[\"Avg_BPM\"]) & (df[\"Avg_BPM\"] >= df[\"Resting_BPM\"]),\n",
    "        \"BMI = Weight / Height ** 2\": np.abs(df[\"BMI\"] - (df[\"Weight (kg)\"] / (df[\"Height (m)\"] ** 2))) < tolerance\n",
    "    }\n",
    "    return rules\n",
    "\n",
    "rules = check_rules(df)\n",
    "\n",
    "for rule, result in rules.items():\n",
    "    print(f\"{rule}: {result.all()}\")"
   ]
  },
  {
   "cell_type": "code",
   "execution_count": 34,
   "id": "4a361f5e",
   "metadata": {},
   "outputs": [
    {
     "name": "stdout",
     "output_type": "stream",
     "text": [
      "Summary of Violations:\n",
      "Age > 0: 0 violations\n",
      "Weight > 0: 0 violations\n",
      "Height > 0: 0 violations\n",
      "Max_BPM > 0: 0 violations\n",
      "Max_BPM < 220: 0 violations\n",
      "Avg_BPM > 0: 0 violations\n",
      "Resting_BPM > 0: 0 violations\n",
      "Fat_Percentage > 0: 0 violations\n",
      "Fat_Percentage < 100: 0 violations\n",
      "Workout_Frequency (days/week) >= 0: 0 violations\n",
      "Workout_Frequency (days/week) <= 7: 0 violations\n",
      "Calories_Burned >= 0: 0 violations\n",
      "Age < 130: 0 violations\n",
      "Weight < 640: 0 violations\n",
      "Height < 2.3: 0 violations\n",
      "Max_BPM >= Avg_BPM >= Resting_BPM: 23 violations\n",
      "BMI = Weight / Height ** 2: 0 violations\n"
     ]
    }
   ],
   "source": [
    "violations = {rule: ~result for rule, result in rules.items()}\n",
    "\n",
    "summary = {rule: result.sum() for rule, result in violations.items()}\n",
    "\n",
    "print(\"Summary of Violations:\")\n",
    "for rule, count in summary.items():\n",
    "    print(f\"{rule}: {count} violations\")"
   ]
  },
  {
   "cell_type": "code",
   "execution_count": 37,
   "id": "952dfe26",
   "metadata": {},
   "outputs": [
    {
     "data": {
      "text/html": [
       "<div>\n",
       "<style scoped>\n",
       "    .dataframe tbody tr th:only-of-type {\n",
       "        vertical-align: middle;\n",
       "    }\n",
       "\n",
       "    .dataframe tbody tr th {\n",
       "        vertical-align: top;\n",
       "    }\n",
       "\n",
       "    .dataframe thead th {\n",
       "        text-align: right;\n",
       "    }\n",
       "</style>\n",
       "<table border=\"1\" class=\"dataframe\">\n",
       "  <thead>\n",
       "    <tr style=\"text-align: right;\">\n",
       "      <th></th>\n",
       "      <th>Age</th>\n",
       "      <th>Gender</th>\n",
       "      <th>Weight (kg)</th>\n",
       "      <th>Height (m)</th>\n",
       "      <th>Max_BPM</th>\n",
       "      <th>Avg_BPM</th>\n",
       "      <th>Resting_BPM</th>\n",
       "      <th>Session_Duration (hours)</th>\n",
       "      <th>Calories_Burned</th>\n",
       "      <th>Workout_Type</th>\n",
       "      <th>Fat_Percentage</th>\n",
       "      <th>Water_Intake (liters)</th>\n",
       "      <th>Workout_Frequency (days/week)</th>\n",
       "      <th>Experience_Level</th>\n",
       "      <th>BMI</th>\n",
       "      <th>Age_imputed</th>\n",
       "    </tr>\n",
       "  </thead>\n",
       "  <tbody>\n",
       "    <tr>\n",
       "      <th>16</th>\n",
       "      <td>19.0</td>\n",
       "      <td>Female</td>\n",
       "      <td>64.0</td>\n",
       "      <td>1.53</td>\n",
       "      <td>166</td>\n",
       "      <td>167</td>\n",
       "      <td>58</td>\n",
       "      <td>1.33</td>\n",
       "      <td>1111</td>\n",
       "      <td>HIIT</td>\n",
       "      <td>29.8</td>\n",
       "      <td>2.3</td>\n",
       "      <td>3</td>\n",
       "      <td>2</td>\n",
       "      <td>27.340000</td>\n",
       "      <td>19.0</td>\n",
       "    </tr>\n",
       "    <tr>\n",
       "      <th>46</th>\n",
       "      <td>24.0</td>\n",
       "      <td>Male</td>\n",
       "      <td>54.7</td>\n",
       "      <td>1.74</td>\n",
       "      <td>160</td>\n",
       "      <td>167</td>\n",
       "      <td>53</td>\n",
       "      <td>0.84</td>\n",
       "      <td>772</td>\n",
       "      <td>Yoga</td>\n",
       "      <td>22.9</td>\n",
       "      <td>3.6</td>\n",
       "      <td>3</td>\n",
       "      <td>1</td>\n",
       "      <td>18.067116</td>\n",
       "      <td>24.0</td>\n",
       "    </tr>\n",
       "    <tr>\n",
       "      <th>56</th>\n",
       "      <td>59.0</td>\n",
       "      <td>Female</td>\n",
       "      <td>65.5</td>\n",
       "      <td>1.52</td>\n",
       "      <td>161</td>\n",
       "      <td>162</td>\n",
       "      <td>61</td>\n",
       "      <td>1.40</td>\n",
       "      <td>1021</td>\n",
       "      <td>Yoga</td>\n",
       "      <td>31.2</td>\n",
       "      <td>2.1</td>\n",
       "      <td>3</td>\n",
       "      <td>2</td>\n",
       "      <td>28.350000</td>\n",
       "      <td>59.0</td>\n",
       "    </tr>\n",
       "    <tr>\n",
       "      <th>95</th>\n",
       "      <td>59.0</td>\n",
       "      <td>Female</td>\n",
       "      <td>54.6</td>\n",
       "      <td>1.57</td>\n",
       "      <td>164</td>\n",
       "      <td>169</td>\n",
       "      <td>64</td>\n",
       "      <td>0.58</td>\n",
       "      <td>441</td>\n",
       "      <td>Cardio</td>\n",
       "      <td>29.2</td>\n",
       "      <td>2.3</td>\n",
       "      <td>3</td>\n",
       "      <td>1</td>\n",
       "      <td>22.150000</td>\n",
       "      <td>59.0</td>\n",
       "    </tr>\n",
       "    <tr>\n",
       "      <th>106</th>\n",
       "      <td>41.0</td>\n",
       "      <td>Male</td>\n",
       "      <td>71.7</td>\n",
       "      <td>1.96</td>\n",
       "      <td>162</td>\n",
       "      <td>168</td>\n",
       "      <td>51</td>\n",
       "      <td>0.51</td>\n",
       "      <td>424</td>\n",
       "      <td>Yoga</td>\n",
       "      <td>27.3</td>\n",
       "      <td>2.5</td>\n",
       "      <td>2</td>\n",
       "      <td>1</td>\n",
       "      <td>18.660000</td>\n",
       "      <td>41.0</td>\n",
       "    </tr>\n",
       "    <tr>\n",
       "      <th>230</th>\n",
       "      <td>28.0</td>\n",
       "      <td>Male</td>\n",
       "      <td>76.3</td>\n",
       "      <td>1.62</td>\n",
       "      <td>161</td>\n",
       "      <td>162</td>\n",
       "      <td>70</td>\n",
       "      <td>1.16</td>\n",
       "      <td>1034</td>\n",
       "      <td>Strength</td>\n",
       "      <td>20.1</td>\n",
       "      <td>2.3</td>\n",
       "      <td>3</td>\n",
       "      <td>2</td>\n",
       "      <td>29.070000</td>\n",
       "      <td>28.0</td>\n",
       "    </tr>\n",
       "    <tr>\n",
       "      <th>310</th>\n",
       "      <td>52.0</td>\n",
       "      <td>Female</td>\n",
       "      <td>64.9</td>\n",
       "      <td>1.51</td>\n",
       "      <td>164</td>\n",
       "      <td>165</td>\n",
       "      <td>68</td>\n",
       "      <td>1.83</td>\n",
       "      <td>1359</td>\n",
       "      <td>HIIT</td>\n",
       "      <td>18.2</td>\n",
       "      <td>2.7</td>\n",
       "      <td>4</td>\n",
       "      <td>3</td>\n",
       "      <td>28.460000</td>\n",
       "      <td>52.0</td>\n",
       "    </tr>\n",
       "    <tr>\n",
       "      <th>326</th>\n",
       "      <td>48.0</td>\n",
       "      <td>Male</td>\n",
       "      <td>69.0</td>\n",
       "      <td>1.74</td>\n",
       "      <td>160</td>\n",
       "      <td>167</td>\n",
       "      <td>58</td>\n",
       "      <td>1.48</td>\n",
       "      <td>1223</td>\n",
       "      <td>HIIT</td>\n",
       "      <td>30.0</td>\n",
       "      <td>2.3</td>\n",
       "      <td>3</td>\n",
       "      <td>2</td>\n",
       "      <td>22.790000</td>\n",
       "      <td>48.0</td>\n",
       "    </tr>\n",
       "    <tr>\n",
       "      <th>356</th>\n",
       "      <td>31.0</td>\n",
       "      <td>Female</td>\n",
       "      <td>62.5</td>\n",
       "      <td>1.62</td>\n",
       "      <td>168</td>\n",
       "      <td>169</td>\n",
       "      <td>74</td>\n",
       "      <td>1.56</td>\n",
       "      <td>1318</td>\n",
       "      <td>Unknown</td>\n",
       "      <td>16.5</td>\n",
       "      <td>2.7</td>\n",
       "      <td>4</td>\n",
       "      <td>3</td>\n",
       "      <td>23.814967</td>\n",
       "      <td>31.0</td>\n",
       "    </tr>\n",
       "    <tr>\n",
       "      <th>365</th>\n",
       "      <td>39.0</td>\n",
       "      <td>Female</td>\n",
       "      <td>60.6</td>\n",
       "      <td>1.65</td>\n",
       "      <td>162</td>\n",
       "      <td>167</td>\n",
       "      <td>63</td>\n",
       "      <td>0.92</td>\n",
       "      <td>768</td>\n",
       "      <td>HIIT</td>\n",
       "      <td>27.6</td>\n",
       "      <td>1.7</td>\n",
       "      <td>3</td>\n",
       "      <td>1</td>\n",
       "      <td>22.260000</td>\n",
       "      <td>39.0</td>\n",
       "    </tr>\n",
       "    <tr>\n",
       "      <th>378</th>\n",
       "      <td>23.0</td>\n",
       "      <td>Female</td>\n",
       "      <td>71.4</td>\n",
       "      <td>1.72</td>\n",
       "      <td>164</td>\n",
       "      <td>169</td>\n",
       "      <td>74</td>\n",
       "      <td>1.25</td>\n",
       "      <td>1056</td>\n",
       "      <td>Strength</td>\n",
       "      <td>25.6</td>\n",
       "      <td>1.5</td>\n",
       "      <td>2</td>\n",
       "      <td>1</td>\n",
       "      <td>24.130000</td>\n",
       "      <td>23.0</td>\n",
       "    </tr>\n",
       "    <tr>\n",
       "      <th>521</th>\n",
       "      <td>45.0</td>\n",
       "      <td>Male</td>\n",
       "      <td>78.3</td>\n",
       "      <td>1.96</td>\n",
       "      <td>166</td>\n",
       "      <td>167</td>\n",
       "      <td>62</td>\n",
       "      <td>1.29</td>\n",
       "      <td>1066</td>\n",
       "      <td>Cardio</td>\n",
       "      <td>29.0</td>\n",
       "      <td>2.2</td>\n",
       "      <td>3</td>\n",
       "      <td>1</td>\n",
       "      <td>20.382132</td>\n",
       "      <td>45.0</td>\n",
       "    </tr>\n",
       "    <tr>\n",
       "      <th>522</th>\n",
       "      <td>31.0</td>\n",
       "      <td>Female</td>\n",
       "      <td>48.2</td>\n",
       "      <td>1.65</td>\n",
       "      <td>163</td>\n",
       "      <td>166</td>\n",
       "      <td>60</td>\n",
       "      <td>1.10</td>\n",
       "      <td>913</td>\n",
       "      <td>Cardio</td>\n",
       "      <td>26.1</td>\n",
       "      <td>2.5</td>\n",
       "      <td>2</td>\n",
       "      <td>1</td>\n",
       "      <td>17.700000</td>\n",
       "      <td>31.0</td>\n",
       "    </tr>\n",
       "    <tr>\n",
       "      <th>659</th>\n",
       "      <td>NaN</td>\n",
       "      <td>Male</td>\n",
       "      <td>64.8</td>\n",
       "      <td>1.65</td>\n",
       "      <td>161</td>\n",
       "      <td>166</td>\n",
       "      <td>67</td>\n",
       "      <td>1.10</td>\n",
       "      <td>904</td>\n",
       "      <td>Cardio</td>\n",
       "      <td>24.4</td>\n",
       "      <td>2.8</td>\n",
       "      <td>3</td>\n",
       "      <td>2</td>\n",
       "      <td>23.800000</td>\n",
       "      <td>39.0</td>\n",
       "    </tr>\n",
       "    <tr>\n",
       "      <th>693</th>\n",
       "      <td>51.0</td>\n",
       "      <td>Male</td>\n",
       "      <td>60.7</td>\n",
       "      <td>1.71</td>\n",
       "      <td>168</td>\n",
       "      <td>169</td>\n",
       "      <td>60</td>\n",
       "      <td>1.14</td>\n",
       "      <td>954</td>\n",
       "      <td>Strength</td>\n",
       "      <td>22.1</td>\n",
       "      <td>2.5</td>\n",
       "      <td>2</td>\n",
       "      <td>1</td>\n",
       "      <td>20.760000</td>\n",
       "      <td>51.0</td>\n",
       "    </tr>\n",
       "    <tr>\n",
       "      <th>703</th>\n",
       "      <td>22.0</td>\n",
       "      <td>Female</td>\n",
       "      <td>48.7</td>\n",
       "      <td>1.76</td>\n",
       "      <td>165</td>\n",
       "      <td>167</td>\n",
       "      <td>66</td>\n",
       "      <td>1.37</td>\n",
       "      <td>1144</td>\n",
       "      <td>HIIT</td>\n",
       "      <td>29.0</td>\n",
       "      <td>2.2</td>\n",
       "      <td>4</td>\n",
       "      <td>2</td>\n",
       "      <td>15.720000</td>\n",
       "      <td>22.0</td>\n",
       "    </tr>\n",
       "    <tr>\n",
       "      <th>710</th>\n",
       "      <td>NaN</td>\n",
       "      <td>Male</td>\n",
       "      <td>123.3</td>\n",
       "      <td>1.62</td>\n",
       "      <td>161</td>\n",
       "      <td>165</td>\n",
       "      <td>65</td>\n",
       "      <td>1.34</td>\n",
       "      <td>1216</td>\n",
       "      <td>Yoga</td>\n",
       "      <td>21.2</td>\n",
       "      <td>2.3</td>\n",
       "      <td>4</td>\n",
       "      <td>2</td>\n",
       "      <td>46.980000</td>\n",
       "      <td>39.0</td>\n",
       "    </tr>\n",
       "    <tr>\n",
       "      <th>793</th>\n",
       "      <td>43.0</td>\n",
       "      <td>Female</td>\n",
       "      <td>72.7</td>\n",
       "      <td>1.80</td>\n",
       "      <td>162</td>\n",
       "      <td>166</td>\n",
       "      <td>50</td>\n",
       "      <td>0.79</td>\n",
       "      <td>590</td>\n",
       "      <td>Cardio</td>\n",
       "      <td>32.8</td>\n",
       "      <td>2.1</td>\n",
       "      <td>3</td>\n",
       "      <td>1</td>\n",
       "      <td>22.440000</td>\n",
       "      <td>43.0</td>\n",
       "    </tr>\n",
       "    <tr>\n",
       "      <th>812</th>\n",
       "      <td>56.0</td>\n",
       "      <td>Male</td>\n",
       "      <td>90.2</td>\n",
       "      <td>1.61</td>\n",
       "      <td>163</td>\n",
       "      <td>168</td>\n",
       "      <td>51</td>\n",
       "      <td>1.38</td>\n",
       "      <td>1148</td>\n",
       "      <td>Yoga</td>\n",
       "      <td>22.6</td>\n",
       "      <td>2.3</td>\n",
       "      <td>3</td>\n",
       "      <td>2</td>\n",
       "      <td>34.800000</td>\n",
       "      <td>56.0</td>\n",
       "    </tr>\n",
       "    <tr>\n",
       "      <th>826</th>\n",
       "      <td>35.0</td>\n",
       "      <td>Male</td>\n",
       "      <td>100.9</td>\n",
       "      <td>1.63</td>\n",
       "      <td>161</td>\n",
       "      <td>163</td>\n",
       "      <td>59</td>\n",
       "      <td>1.10</td>\n",
       "      <td>986</td>\n",
       "      <td>Unknown</td>\n",
       "      <td>28.4</td>\n",
       "      <td>3.1</td>\n",
       "      <td>2</td>\n",
       "      <td>1</td>\n",
       "      <td>37.980000</td>\n",
       "      <td>35.0</td>\n",
       "    </tr>\n",
       "    <tr>\n",
       "      <th>847</th>\n",
       "      <td>NaN</td>\n",
       "      <td>Female</td>\n",
       "      <td>41.6</td>\n",
       "      <td>1.58</td>\n",
       "      <td>160</td>\n",
       "      <td>163</td>\n",
       "      <td>68</td>\n",
       "      <td>1.03</td>\n",
       "      <td>756</td>\n",
       "      <td>Yoga</td>\n",
       "      <td>26.6</td>\n",
       "      <td>2.1</td>\n",
       "      <td>4</td>\n",
       "      <td>2</td>\n",
       "      <td>16.660000</td>\n",
       "      <td>39.0</td>\n",
       "    </tr>\n",
       "    <tr>\n",
       "      <th>911</th>\n",
       "      <td>NaN</td>\n",
       "      <td>Male</td>\n",
       "      <td>101.1</td>\n",
       "      <td>1.83</td>\n",
       "      <td>160</td>\n",
       "      <td>162</td>\n",
       "      <td>66</td>\n",
       "      <td>0.79</td>\n",
       "      <td>634</td>\n",
       "      <td>Yoga</td>\n",
       "      <td>28.6</td>\n",
       "      <td>3.2</td>\n",
       "      <td>2</td>\n",
       "      <td>1</td>\n",
       "      <td>30.189017</td>\n",
       "      <td>39.0</td>\n",
       "    </tr>\n",
       "    <tr>\n",
       "      <th>912</th>\n",
       "      <td>55.0</td>\n",
       "      <td>Male</td>\n",
       "      <td>118.6</td>\n",
       "      <td>1.72</td>\n",
       "      <td>163</td>\n",
       "      <td>168</td>\n",
       "      <td>67</td>\n",
       "      <td>0.77</td>\n",
       "      <td>640</td>\n",
       "      <td>Strength</td>\n",
       "      <td>25.9</td>\n",
       "      <td>2.6</td>\n",
       "      <td>3</td>\n",
       "      <td>1</td>\n",
       "      <td>40.090000</td>\n",
       "      <td>55.0</td>\n",
       "    </tr>\n",
       "  </tbody>\n",
       "</table>\n",
       "</div>"
      ],
      "text/plain": [
       "      Age  Gender  Weight (kg)  Height (m)  Max_BPM  Avg_BPM  Resting_BPM  \\\n",
       "16   19.0  Female         64.0        1.53      166      167           58   \n",
       "46   24.0    Male         54.7        1.74      160      167           53   \n",
       "56   59.0  Female         65.5        1.52      161      162           61   \n",
       "95   59.0  Female         54.6        1.57      164      169           64   \n",
       "106  41.0    Male         71.7        1.96      162      168           51   \n",
       "230  28.0    Male         76.3        1.62      161      162           70   \n",
       "310  52.0  Female         64.9        1.51      164      165           68   \n",
       "326  48.0    Male         69.0        1.74      160      167           58   \n",
       "356  31.0  Female         62.5        1.62      168      169           74   \n",
       "365  39.0  Female         60.6        1.65      162      167           63   \n",
       "378  23.0  Female         71.4        1.72      164      169           74   \n",
       "521  45.0    Male         78.3        1.96      166      167           62   \n",
       "522  31.0  Female         48.2        1.65      163      166           60   \n",
       "659   NaN    Male         64.8        1.65      161      166           67   \n",
       "693  51.0    Male         60.7        1.71      168      169           60   \n",
       "703  22.0  Female         48.7        1.76      165      167           66   \n",
       "710   NaN    Male        123.3        1.62      161      165           65   \n",
       "793  43.0  Female         72.7        1.80      162      166           50   \n",
       "812  56.0    Male         90.2        1.61      163      168           51   \n",
       "826  35.0    Male        100.9        1.63      161      163           59   \n",
       "847   NaN  Female         41.6        1.58      160      163           68   \n",
       "911   NaN    Male        101.1        1.83      160      162           66   \n",
       "912  55.0    Male        118.6        1.72      163      168           67   \n",
       "\n",
       "     Session_Duration (hours)  Calories_Burned Workout_Type  Fat_Percentage  \\\n",
       "16                       1.33             1111         HIIT            29.8   \n",
       "46                       0.84              772         Yoga            22.9   \n",
       "56                       1.40             1021         Yoga            31.2   \n",
       "95                       0.58              441       Cardio            29.2   \n",
       "106                      0.51              424         Yoga            27.3   \n",
       "230                      1.16             1034     Strength            20.1   \n",
       "310                      1.83             1359         HIIT            18.2   \n",
       "326                      1.48             1223         HIIT            30.0   \n",
       "356                      1.56             1318      Unknown            16.5   \n",
       "365                      0.92              768         HIIT            27.6   \n",
       "378                      1.25             1056     Strength            25.6   \n",
       "521                      1.29             1066       Cardio            29.0   \n",
       "522                      1.10              913       Cardio            26.1   \n",
       "659                      1.10              904       Cardio            24.4   \n",
       "693                      1.14              954     Strength            22.1   \n",
       "703                      1.37             1144         HIIT            29.0   \n",
       "710                      1.34             1216         Yoga            21.2   \n",
       "793                      0.79              590       Cardio            32.8   \n",
       "812                      1.38             1148         Yoga            22.6   \n",
       "826                      1.10              986      Unknown            28.4   \n",
       "847                      1.03              756         Yoga            26.6   \n",
       "911                      0.79              634         Yoga            28.6   \n",
       "912                      0.77              640     Strength            25.9   \n",
       "\n",
       "     Water_Intake (liters)  Workout_Frequency (days/week)  Experience_Level  \\\n",
       "16                     2.3                              3                 2   \n",
       "46                     3.6                              3                 1   \n",
       "56                     2.1                              3                 2   \n",
       "95                     2.3                              3                 1   \n",
       "106                    2.5                              2                 1   \n",
       "230                    2.3                              3                 2   \n",
       "310                    2.7                              4                 3   \n",
       "326                    2.3                              3                 2   \n",
       "356                    2.7                              4                 3   \n",
       "365                    1.7                              3                 1   \n",
       "378                    1.5                              2                 1   \n",
       "521                    2.2                              3                 1   \n",
       "522                    2.5                              2                 1   \n",
       "659                    2.8                              3                 2   \n",
       "693                    2.5                              2                 1   \n",
       "703                    2.2                              4                 2   \n",
       "710                    2.3                              4                 2   \n",
       "793                    2.1                              3                 1   \n",
       "812                    2.3                              3                 2   \n",
       "826                    3.1                              2                 1   \n",
       "847                    2.1                              4                 2   \n",
       "911                    3.2                              2                 1   \n",
       "912                    2.6                              3                 1   \n",
       "\n",
       "           BMI  Age_imputed  \n",
       "16   27.340000         19.0  \n",
       "46   18.067116         24.0  \n",
       "56   28.350000         59.0  \n",
       "95   22.150000         59.0  \n",
       "106  18.660000         41.0  \n",
       "230  29.070000         28.0  \n",
       "310  28.460000         52.0  \n",
       "326  22.790000         48.0  \n",
       "356  23.814967         31.0  \n",
       "365  22.260000         39.0  \n",
       "378  24.130000         23.0  \n",
       "521  20.382132         45.0  \n",
       "522  17.700000         31.0  \n",
       "659  23.800000         39.0  \n",
       "693  20.760000         51.0  \n",
       "703  15.720000         22.0  \n",
       "710  46.980000         39.0  \n",
       "793  22.440000         43.0  \n",
       "812  34.800000         56.0  \n",
       "826  37.980000         35.0  \n",
       "847  16.660000         39.0  \n",
       "911  30.189017         39.0  \n",
       "912  40.090000         55.0  "
      ]
     },
     "execution_count": 37,
     "metadata": {},
     "output_type": "execute_result"
    }
   ],
   "source": [
    "invalid_rows = df[~((df[\"Max_BPM\"] >= df[\"Avg_BPM\"]) & (df[\"Avg_BPM\"] >= df[\"Resting_BPM\"]))]\n",
    "invalid_rows"
   ]
  },
  {
   "cell_type": "markdown",
   "id": "3c037863",
   "metadata": {},
   "source": [
    "Dataset zawiera błędne dane dotyczące akcji serca użytkowników, gdyż średnia ilość uderzeń na minutę (Avg_BPM) nie może być wyższa od maksymalnej ilości uderzeń (Max_BPM). TO BE CONTINUED..."
   ]
  },
  {
   "cell_type": "code",
   "execution_count": 23,
   "id": "48c218fc",
   "metadata": {},
   "outputs": [
    {
     "data": {
      "text/plain": [
       "np.int64(0)"
      ]
     },
     "execution_count": 23,
     "metadata": {},
     "output_type": "execute_result"
    }
   ],
   "source": [
    "df.duplicated().sum()"
   ]
  },
  {
   "cell_type": "markdown",
   "id": "d784a798",
   "metadata": {},
   "source": [
    "W zbiorze nie znaleziono duplikatów."
   ]
  },
  {
   "cell_type": "markdown",
   "id": "404b9d7c",
   "metadata": {},
   "source": [
    "Wizualizacje\n",
    "---"
   ]
  },
  {
   "cell_type": "markdown",
   "id": "0c8a7e78",
   "metadata": {},
   "source": [
    "Analiza opisowa\n",
    "---"
   ]
  },
  {
   "cell_type": "markdown",
   "id": "ef2eb941",
   "metadata": {},
   "source": [
    "Wnioski\n",
    "---"
   ]
  }
 ],
 "metadata": {
  "kernelspec": {
   "display_name": "Python 3",
   "language": "python",
   "name": "python3"
  },
  "language_info": {
   "codemirror_mode": {
    "name": "ipython",
    "version": 3
   },
   "file_extension": ".py",
   "mimetype": "text/x-python",
   "name": "python",
   "nbconvert_exporter": "python",
   "pygments_lexer": "ipython3",
   "version": "3.13.5"
  }
 },
 "nbformat": 4,
 "nbformat_minor": 5
}
