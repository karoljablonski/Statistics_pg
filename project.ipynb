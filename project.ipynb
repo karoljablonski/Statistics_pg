{
 "cells": [
  {
   "cell_type": "markdown",
   "id": "36bc709d",
   "metadata": {},
   "source": [
    "Projekt\n",
    "=======\n"
   ]
  },
  {
   "cell_type": "markdown",
   "id": "0c401a87",
   "metadata": {},
   "source": [
    "Wprowadzenie\n",
    "------------"
   ]
  },
  {
   "cell_type": "markdown",
   "id": "5f31293b",
   "metadata": {},
   "source": [
    "Czyszczenie i porządkowanie danych\n",
    "----------------------------------\n"
   ]
  },
  {
   "cell_type": "markdown",
   "id": "404b9d7c",
   "metadata": {},
   "source": [
    "Wizualizacje\n",
    "---"
   ]
  },
  {
   "cell_type": "markdown",
   "id": "0c8a7e78",
   "metadata": {},
   "source": [
    "Analiza opisowa\n",
    "---"
   ]
  },
  {
   "cell_type": "markdown",
   "id": "ef2eb941",
   "metadata": {},
   "source": [
    "Wnioski\n",
    "---"
   ]
  }
 ],
 "metadata": {
  "language_info": {
   "name": "python"
  }
 },
 "nbformat": 4,
 "nbformat_minor": 5
}
